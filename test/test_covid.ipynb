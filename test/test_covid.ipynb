{
 "cells": [
  {
   "cell_type": "markdown",
   "id": "162617f7-eb78-4bd3-946f-a65c5718f25d",
   "metadata": {},
   "source": [
    "# Data Processing and Model Evaluation\n",
    "\n",
    "This notebook demonstrates how to load data, handle missing values, and perform model evaluation using the `mtslearn` library.\n",
    "\n",
    "## Import Necessary Libraries\n",
    "\n",
    "First, we import the required Python libraries."
   ]
  },
  {
   "cell_type": "code",
   "execution_count": 30,
   "id": "4855e3db-ef2c-4467-828e-8662d217cfc8",
   "metadata": {},
   "outputs": [
    {
     "name": "stderr",
     "output_type": "stream",
     "text": [
      "python(69777) MallocStackLogging: can't turn off malloc stack logging because it was not enabled.\n"
     ]
    },
    {
     "name": "stdout",
     "output_type": "stream",
     "text": [
      "Collecting imbalanced-learn==0.11.0 (from -r /Users/zhaoyuechao/Documents/GitHub/mtslearn/requirements.txt (line 1))\n",
      "  Using cached imbalanced_learn-0.11.0-py3-none-any.whl.metadata (8.3 kB)\n",
      "Collecting lifelines==0.29.0 (from -r /Users/zhaoyuechao/Documents/GitHub/mtslearn/requirements.txt (line 2))\n",
      "  Using cached lifelines-0.29.0-py3-none-any.whl.metadata (3.2 kB)\n",
      "\u001b[31mERROR: Could not find a version that satisfies the requirement matplotlib-base==3.9.2 (from versions: none)\u001b[0m\u001b[31m\n",
      "\u001b[0m\u001b[31mERROR: No matching distribution found for matplotlib-base==3.9.2\u001b[0m\u001b[31m\n",
      "\u001b[0m"
     ]
    }
   ],
   "source": [
    "# Note: For the latest updates and versions of the package, please visit the mtslearn GitHub repository \n",
    "# https://github.com/WalkerZYC/mtslearn.\n",
    "# This ensures you have the most recent features and fixes before I officially release them.\n",
    "\n",
    "# Install the required packages from the requirements file\n",
    "# Make sure to replace '/path/to/your/requirements.txt' with the actual path to your requirements file\n",
    "\n",
    "!pip install -r /Users/zhaoyuechao/Documents/GitHub/mtslearn/requirements.txt "
   ]
  },
  {
   "cell_type": "code",
   "execution_count": 4,
   "id": "09725cca-c1be-4312-ac36-9a8f0449a112",
   "metadata": {},
   "outputs": [
    {
     "name": "stderr",
     "output_type": "stream",
     "text": [
      "python(60681) MallocStackLogging: can't turn off malloc stack logging because it was not enabled.\n"
     ]
    },
    {
     "ename": "ModuleNotFoundError",
     "evalue": "No module named 'xgboost'",
     "output_type": "error",
     "traceback": [
      "\u001b[0;31m---------------------------------------------------------------------------\u001b[0m",
      "\u001b[0;31mModuleNotFoundError\u001b[0m                       Traceback (most recent call last)",
      "Cell \u001b[0;32mIn[4], line 9\u001b[0m\n\u001b[1;32m      7\u001b[0m \u001b[38;5;28;01mimport\u001b[39;00m \u001b[38;5;21;01mpandas\u001b[39;00m \u001b[38;5;28;01mas\u001b[39;00m \u001b[38;5;21;01mpd\u001b[39;00m\n\u001b[1;32m      8\u001b[0m \u001b[38;5;28;01mimport\u001b[39;00m \u001b[38;5;21;01mos\u001b[39;00m\n\u001b[0;32m----> 9\u001b[0m \u001b[38;5;28;01mimport\u001b[39;00m \u001b[38;5;21;01mmtslearn\u001b[39;00m\u001b[38;5;21;01m.\u001b[39;00m\u001b[38;5;21;01mfeature_extraction\u001b[39;00m \u001b[38;5;28;01mas\u001b[39;00m \u001b[38;5;21;01mfe\u001b[39;00m\n",
      "File \u001b[0;32m~/Documents/GitHub/mtslearn/mtslearn/feature_extraction.py:12\u001b[0m\n\u001b[1;32m     10\u001b[0m \u001b[38;5;28;01mfrom\u001b[39;00m \u001b[38;5;21;01msklearn\u001b[39;00m\u001b[38;5;21;01m.\u001b[39;00m\u001b[38;5;21;01mmodel_selection\u001b[39;00m \u001b[38;5;28;01mimport\u001b[39;00m cross_val_score, train_test_split, StratifiedKFold\n\u001b[1;32m     11\u001b[0m \u001b[38;5;28;01mfrom\u001b[39;00m \u001b[38;5;21;01msklearn\u001b[39;00m\u001b[38;5;21;01m.\u001b[39;00m\u001b[38;5;21;01mlinear_model\u001b[39;00m \u001b[38;5;28;01mimport\u001b[39;00m LogisticRegression, LassoCV\n\u001b[0;32m---> 12\u001b[0m \u001b[38;5;28;01mfrom\u001b[39;00m \u001b[38;5;21;01mxgboost\u001b[39;00m \u001b[38;5;28;01mimport\u001b[39;00m XGBClassifier\n\u001b[1;32m     13\u001b[0m \u001b[38;5;28;01mfrom\u001b[39;00m \u001b[38;5;21;01msklearn\u001b[39;00m\u001b[38;5;21;01m.\u001b[39;00m\u001b[38;5;21;01mimpute\u001b[39;00m \u001b[38;5;28;01mimport\u001b[39;00m SimpleImputer\n\u001b[1;32m     14\u001b[0m \u001b[38;5;28;01mfrom\u001b[39;00m \u001b[38;5;21;01mimblearn\u001b[39;00m\u001b[38;5;21;01m.\u001b[39;00m\u001b[38;5;21;01mover_sampling\u001b[39;00m \u001b[38;5;28;01mimport\u001b[39;00m SMOTE\n",
      "\u001b[0;31mModuleNotFoundError\u001b[0m: No module named 'xgboost'"
     ]
    }
   ],
   "source": [
    "import sys\n",
    "sys.path.append('/Users/zhaoyuechao/Documents/GitHub/mtslearn')\n",
    "import pandas as pd\n",
    "import os\n",
    "import mtslearn.feature_extraction as fe"
   ]
  },
  {
   "cell_type": "markdown",
   "id": "5f8fa6ac-d0a7-418f-a6f0-6c717f052fe8",
   "metadata": {},
   "source": [
    "## Load Excel File\n",
    "\n",
    "Next, we load the Excel file containing patient data."
   ]
  },
  {
   "cell_type": "code",
   "execution_count": null,
   "id": "3ae85c1a-aa6d-4fd0-919d-67439adf39ca",
   "metadata": {},
   "outputs": [],
   "source": [
    "# Load the Excel file\n",
    "file_path = '/Users/zhaoyuechao/Documents/GitHub/mtslearn/tests/test_data/375_patients_example.xlsx'\n",
    "df = pd.read_excel(file_path)"
   ]
  },
  {
   "cell_type": "markdown",
   "id": "94433279-ad91-45b5-8354-a0a0882b022b",
   "metadata": {},
   "source": [
    "## Fill Missing Values on ID of patients\n",
    "\n",
    "We use forward fill method to fill NaN values in the `PATIENT_ID` column."
   ]
  },
  {
   "cell_type": "code",
   "execution_count": null,
   "id": "ab0c1f06-75b2-48a4-963f-244b44650795",
   "metadata": {},
   "outputs": [],
   "source": [
    "# Fill NaN values in the PATIENT_ID column using forward fill method\n",
    "df['PATIENT_ID'].fillna(method='ffill', inplace=True)\n",
    "\n",
    "# Print the first 40 rows of the data\n",
    "print(df.head(40))"
   ]
  },
  {
   "cell_type": "markdown",
   "id": "bd786368-3f4f-4053-a3b5-e56503adfd37",
   "metadata": {},
   "source": [
    "## Model Evaluation\n",
    "\n",
    "We use the `FeModEvaluator` class to evaluate the model."
   ]
  },
  {
   "cell_type": "code",
   "execution_count": null,
   "id": "495f332b-e7c7-415c-ab32-1299d5b529fb",
   "metadata": {},
   "outputs": [],
   "source": [
    "fe = fe.FeModEvaluator(df,\n",
    "                       'PATIENT_ID',\n",
    "                       'RE_DATE',\n",
    "                       'outcome',\n",
    "                       {'eGFR': ['mean', 'max'], 'creatinine': ['mean']},\n",
    "                       include_duration=True)\n",
    "\n",
    "# Run the model evaluation\n",
    "fe.run(model_type='logit', fill=True, fill_method='mean', cross_val=True, plot_importance=True)"
   ]
  }
 ],
 "metadata": {
  "kernelspec": {
   "display_name": "Python 3 (ipykernel)",
   "language": "python",
   "name": "python3"
  },
  "language_info": {
   "codemirror_mode": {
    "name": "ipython",
    "version": 3
   },
   "file_extension": ".py",
   "mimetype": "text/x-python",
   "name": "python",
   "nbconvert_exporter": "python",
   "pygments_lexer": "ipython3",
   "version": "3.12.7"
  }
 },
 "nbformat": 4,
 "nbformat_minor": 5
}
